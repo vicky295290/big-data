{
 "cells": [
  {
   "cell_type": "markdown",
   "metadata": {},
   "source": [
    "**Part 1:**"
   ]
  },
  {
   "cell_type": "code",
   "execution_count": 2,
   "metadata": {},
   "outputs": [],
   "source": [
    "import warnings \n",
    "\n",
    "# Settings the warnings to be ignored \n",
    "warnings.filterwarnings('ignore') "
   ]
  },
  {
   "cell_type": "code",
   "execution_count": 5,
   "metadata": {},
   "outputs": [],
   "source": [
    "from pyspark.sql import SparkSession\n",
    "spark=SparkSession.builder.getOrCreate()\n",
    "sc=spark.sparkContext\n"
   ]
  },
  {
   "cell_type": "code",
   "execution_count": 6,
   "metadata": {},
   "outputs": [
    {
     "data": {
      "text/plain": [
       "[Row(_c0='C0005790', _c1='C0005778'),\n",
       " Row(_c0='C1255279', _c1='C3537249'),\n",
       " Row(_c0='C1255446', _c1='C0002520'),\n",
       " Row(_c0='C1255552', _c1='C0596019'),\n",
       " Row(_c0='C1254417', _c1='C0004611')]"
      ]
     },
     "execution_count": 6,
     "metadata": {},
     "output_type": "execute_result"
    }
   ],
   "source": [
    "data=spark.read.csv('rel.csv', header=False)\n",
    "data.take(5)"
   ]
  },
  {
   "cell_type": "code",
   "execution_count": 7,
   "metadata": {},
   "outputs": [
    {
     "name": "stdout",
     "output_type": "stream",
     "text": [
      "+--------+--------+\n",
      "|      c0|      c1|\n",
      "+--------+--------+\n",
      "|C0005778|C0005790|\n",
      "|C1255279|C3537249|\n",
      "|C0002520|C1255446|\n",
      "|C0596019|C1255552|\n",
      "|C0004611|C1254417|\n",
      "|C0004611|C1254418|\n",
      "|C0004611|C1254394|\n",
      "|C0004611|C1254416|\n",
      "|C0004611|C1254377|\n",
      "|C0004611|C1254387|\n",
      "|C0010640|C0523590|\n",
      "|C0443720|C1255261|\n",
      "|C0002520|C0546634|\n",
      "|C0012854|C0200906|\n",
      "|C0060323|C1255222|\n",
      "|C0004611|C1254386|\n",
      "|C0002520|C0201874|\n",
      "|C0057522|C0523603|\n",
      "|C0004611|C1254465|\n",
      "|C0004358|C0200555|\n",
      "+--------+--------+\n",
      "only showing top 20 rows\n",
      "\n"
     ]
    }
   ],
   "source": [
    "#1. Order the pair of strings alphabetically.\n",
    "from pyspark.sql.functions import col, when, lit\n",
    "df_ordered = data.select(\n",
    "    when(col(\"_c0\") <= col(\"_c1\"), col(\"_c0\")).otherwise(col(\"_c1\")). alias(\"c0\"),\n",
    "    when(col(\"_c0\") > col(\"_c1\"), col(\"_c0\")).otherwise(col(\"_c1\")). alias(\"c1\"))\n",
    "df_ordered.show()\n"
   ]
  },
  {
   "cell_type": "code",
   "execution_count": null,
   "metadata": {
    "scrolled": false
   },
   "outputs": [],
   "source": [
    "#2.  Count number of instances for each ordered pair resulted in Step 1\n",
    "import shutil\n",
    "import os\n",
    "df_counts = df_ordered.groupBy([\"c0\", \"c1\"]).count()\n",
    "df_counts = df_counts.orderBy([\"c0\", \"c1\"])\n",
    "df_counts_rdd = df_counts.rdd.map(lambda row: ','.join(map(str, row)))\n",
    "filepath='pair-count.txt'\n",
    "if os.path.exists(filepath):\n",
    "     shutil.rmtree(filepath)\n",
    "df_counts_rdd.coalesce(1).saveAsTextFile(path=filepath)\n",
    "\n"
   ]
  },
  {
   "cell_type": "code",
   "execution_count": 11,
   "metadata": {},
   "outputs": [
    {
     "name": "stderr",
     "output_type": "stream",
     "text": [
      "                                                                                \r"
     ]
    },
    {
     "data": {
      "text/plain": [
       "12946540"
      ]
     },
     "execution_count": 11,
     "metadata": {},
     "output_type": "execute_result"
    }
   ],
   "source": [
    "#3. Count the total number of ordered pairs\n",
    "df_counts.distinct().count()"
   ]
  },
  {
   "cell_type": "markdown",
   "metadata": {},
   "source": []
  },
  {
   "cell_type": "markdown",
   "metadata": {},
   "source": [
    "**Part 2**"
   ]
  },
  {
   "cell_type": "code",
   "execution_count": 58,
   "metadata": {},
   "outputs": [],
   "source": [
    "#1. Remove the rows where the column “BloodPressure”, “BMI” or “Glucose” is zero\n",
    "from pyspark.sql.types import StructType, StructField, IntegerType, FloatType, StringType\n",
    "diabetesSchema = StructType([\n",
    "    StructField(\"Pregnancies\", IntegerType(), True), \n",
    "    StructField(\"Glucose\", IntegerType(), True),\n",
    "    StructField(\"BloodPressure\", IntegerType(), True),\n",
    "    StructField(\"SkinThickness\", IntegerType(), True),\n",
    "    StructField(\"Insulin\", IntegerType(), True),\n",
    "    StructField(\"BMI\", FloatType(), True),\n",
    "    StructField(\"DiabetesPedigreeFunction\", FloatType(), True),\n",
    "    StructField(\"Age\", IntegerType(), True),\n",
    "    StructField(\"Outcome\", IntegerType(), True) \n",
    "])\n",
    "\n",
    "diabetes=spark.read.csv('diabetes.csv', header=True, schema=diabetesSchema)\n",
    "filter_df=diabetes.filter((col(\"BloodPressure\") != 0) & \n",
    "    (col(\"BMI\") != 0) &\n",
    "    (col(\"Glucose\") != 0))\n"
   ]
  },
  {
   "cell_type": "code",
   "execution_count": 59,
   "metadata": {},
   "outputs": [
    {
     "name": "stderr",
     "output_type": "stream",
     "text": [
      "                                                                                \r"
     ]
    },
    {
     "name": "stdout",
     "output_type": "stream",
     "text": [
      "+---------------+\n",
      "|Pregnancies_vec|\n",
      "+---------------+\n",
      "| (17,[6],[1.0])|\n",
      "| (17,[1],[1.0])|\n",
      "| (17,[8],[1.0])|\n",
      "| (17,[1],[1.0])|\n",
      "| (17,[0],[1.0])|\n",
      "| (17,[5],[1.0])|\n",
      "| (17,[3],[1.0])|\n",
      "| (17,[2],[1.0])|\n",
      "| (17,[4],[1.0])|\n",
      "|(17,[10],[1.0])|\n",
      "|(17,[10],[1.0])|\n",
      "| (17,[1],[1.0])|\n",
      "| (17,[5],[1.0])|\n",
      "| (17,[0],[1.0])|\n",
      "| (17,[7],[1.0])|\n",
      "| (17,[1],[1.0])|\n",
      "| (17,[1],[1.0])|\n",
      "| (17,[3],[1.0])|\n",
      "| (17,[8],[1.0])|\n",
      "| (17,[7],[1.0])|\n",
      "+---------------+\n",
      "only showing top 20 rows\n",
      "\n"
     ]
    }
   ],
   "source": [
    "#2. Convert the categorical column “Pregnancies” into one-hot encoding\n",
    "from pyspark.ml import feature as ft\n",
    "from pyspark.ml import Pipeline\n",
    "encoder=ft.OneHotEncoder(inputCol='Pregnancies',\n",
    "                         outputCol= 'Pregnancies_vec')\n",
    "#pipeline=Pipeline(stages=[encoder])\n",
    "emodel=encoder.fit(filter_df)\n",
    "filterTr=emodel.transform(filter_df)\n",
    "filterTr.select('Pregnancies_vec').show()\n"
   ]
  },
  {
   "cell_type": "code",
   "execution_count": 63,
   "metadata": {},
   "outputs": [
    {
     "data": {
      "text/plain": [
       "[Row(Pregnancies=6, Glucose=148, BloodPressure=72, SkinThickness=35, Insulin=0, BMI=33.599998474121094, DiabetesPedigreeFunction=0.6269999742507935, Age=50, Outcome=1, Pregnancies_vec=SparseVector(17, {6: 1.0}), features=SparseVector(24, {6: 1.0, 17: 148.0, 18: 72.0, 19: 35.0, 21: 33.6, 22: 0.627, 23: 50.0})),\n",
       " Row(Pregnancies=1, Glucose=85, BloodPressure=66, SkinThickness=29, Insulin=0, BMI=26.600000381469727, DiabetesPedigreeFunction=0.35100001096725464, Age=31, Outcome=0, Pregnancies_vec=SparseVector(17, {1: 1.0}), features=SparseVector(24, {1: 1.0, 17: 85.0, 18: 66.0, 19: 29.0, 21: 26.6, 22: 0.351, 23: 31.0}))]"
      ]
     },
     "execution_count": 63,
     "metadata": {},
     "output_type": "execute_result"
    }
   ],
   "source": [
    "#3. Create a single column with all the features collated together using VectorAssembler\n",
    "input_columns = ['Pregnancies_vec', 'Glucose', 'BloodPressure', 'SkinThickness', \n",
    "                 'Insulin', 'BMI', 'DiabetesPedigreeFunction', 'Age']\n",
    "featureCreator=ft.VectorAssembler(inputCols=input_columns, outputCol=\"features\")\n",
    "res=featureCreator.transform(filterTr)\n",
    "res.take(2)"
   ]
  },
  {
   "cell_type": "code",
   "execution_count": 82,
   "metadata": {},
   "outputs": [],
   "source": [
    "#4. Split training and testing datasets\n",
    "from pyspark.sql import functions as func\n",
    "from pyspark.sql import types as typ\n",
    "filter_df=filter_df.withColumn('Outcome',func.col('Outcome').cast(typ.DoubleType()))\n",
    "filter_df_train, filter_df_test=filter_df \\\n",
    "    .randomSplit([0.7,0.3],seed=2017)"
   ]
  },
  {
   "cell_type": "code",
   "execution_count": 83,
   "metadata": {},
   "outputs": [
    {
     "data": {
      "text/plain": [
       "[Row(Pregnancies=0, Glucose=57, BloodPressure=60, SkinThickness=0, Insulin=0, BMI=21.700000762939453, DiabetesPedigreeFunction=0.7350000143051147, Age=67, Outcome=0.0, Pregnancies_vec=SparseVector(17, {0: 1.0}), features=SparseVector(24, {0: 1.0, 17: 57.0, 18: 60.0, 21: 21.7, 22: 0.735, 23: 67.0}), rawPrediction=DenseVector([15.6008, 4.3992]), probability=DenseVector([0.78, 0.22]), prediction=0.0)]"
      ]
     },
     "execution_count": 83,
     "metadata": {},
     "output_type": "execute_result"
    }
   ],
   "source": [
    "#5. Implement a random forest classifier and specify the number of decision trees as 20.\n",
    "from pyspark.ml.classification import RandomForestClassifier\n",
    "RandomF=RandomForestClassifier(numTrees=20, labelCol='Outcome')\n",
    "pipeline=Pipeline(stages=[\n",
    "    encoder,\n",
    "    featureCreator,\n",
    "    RandomF\n",
    "])\n",
    "model=pipeline.fit(filter_df_train)\n",
    "testmodel=model.transform(filter_df_test)\n",
    "testmodel.take(1)"
   ]
  },
  {
   "cell_type": "code",
   "execution_count": 84,
   "metadata": {},
   "outputs": [
    {
     "name": "stdout",
     "output_type": "stream",
     "text": [
      "AuROC 0.8527020072053532\n",
      "AuPR 0.6639634735334004\n"
     ]
    }
   ],
   "source": [
    "#6. Evaluate the performance\n",
    "import pyspark.ml.evaluation as ev\n",
    "evaluator=ev.BinaryClassificationEvaluator(\n",
    "    rawPredictionCol='probability',\n",
    "    labelCol='Outcome')\n",
    "print('AuROC',evaluator.evaluate(testmodel, {evaluator.metricName: 'areaUnderROC'}))\n",
    "print('AuPR', evaluator.evaluate(testmodel,{evaluator.metricName:'areaUnderPR'}))"
   ]
  },
  {
   "cell_type": "code",
   "execution_count": 85,
   "metadata": {},
   "outputs": [
    {
     "name": "stderr",
     "output_type": "stream",
     "text": [
      "                                                                                \r"
     ]
    },
    {
     "data": {
      "image/png": "[encoded data removed]",
      "text/plain": [
       "<Figure size 500x500 with 1 Axes>"
      ]
     },
     "metadata": {},
     "output_type": "display_data"
    }
   ],
   "source": [
    "# Retrieve probability and outcome\n",
    "import sklearn.metrics as sk_me\n",
    "import numpy as np\n",
    "import matplotlib.pyplot as plt\n",
    "probArr=testmodel.select('probability','Outcome')\\\n",
    "    .rdd\\\n",
    "    .map(lambda row:[row[0][1],row[1]]).collect()\n",
    "probArr=np.array(probArr)\n",
    "\n",
    "fpr, tpr, thresholds = sk_me.roc_curve(probArr[:,1],probArr[:,0],pos_label=1)\n",
    "roc_auc = sk_me.auc(fpr, tpr)\n",
    "\n",
    "# Plot the ROC curve\n",
    "plt.figure(figsize=(5,5))\n",
    "plt.plot(fpr, tpr,label='ROC curve (area = %0.2f)' % roc_auc)\n",
    "plt.plot([0, 1], [0, 1], 'k--')\n",
    "plt.xlim([0.0, 1.0])\n",
    "plt.ylim([0.0, 1.05])\n",
    "plt.xlabel('False Positive Rate')\n",
    "plt.ylabel('True Positive Rate')\n",
    "plt.title('ROC Curve')\n",
    "plt.legend(loc=\"lower right\")\n",
    "plt.show()\n"
   ]
  }
 ],
 "metadata": {
  "kernelspec": {
   "display_name": "Python 3 (ipykernel)",
   "language": "python",
   "name": "python3"
  },
  "language_info": {
   "codemirror_mode": {
    "name": "ipython",
    "version": 3
   },
   "file_extension": ".py",
   "mimetype": "text/x-python",
   "name": "python",
   "nbconvert_exporter": "python",
   "pygments_lexer": "ipython3",
   "version": "3.10.13"
  }
 },
 "nbformat": 4,
 "nbformat_minor": 2
}
